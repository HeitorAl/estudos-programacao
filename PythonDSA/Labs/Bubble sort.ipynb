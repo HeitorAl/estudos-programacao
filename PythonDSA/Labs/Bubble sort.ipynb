{
 "cells": [
  {
   "cell_type": "code",
   "execution_count": 10,
   "id": "2b4b647e",
   "metadata": {},
   "outputs": [],
   "source": [
    "def bubbleSort(lista):\n",
    "    for j in range(len(lista)):\n",
    "        for i in range(len(lista)-1):\n",
    "            if lista[i] > lista[i+1]:\n",
    "                lista[i], lista[i+1] = lista[i+1], lista[i]\n",
    "    print(lista)"
   ]
  },
  {
   "cell_type": "code",
   "execution_count": null,
   "id": "ac5b70c8",
   "metadata": {},
   "outputs": [],
   "source": [
    "8 && 's'"
   ]
  },
  {
   "cell_type": "code",
   "execution_count": 11,
   "id": "13797a58",
   "metadata": {},
   "outputs": [
    {
     "name": "stdout",
     "output_type": "stream",
     "text": [
      "[0, 1, 2, 3, 4, 5, 6, 7, 8, 9]\n"
     ]
    }
   ],
   "source": [
    "lista = [3,0,1,2,5,7,4,9,8,6]\n",
    "bubbleSort(lista)"
   ]
  },
  {
   "cell_type": "code",
   "execution_count": 12,
   "id": "e303e282",
   "metadata": {},
   "outputs": [
    {
     "name": "stdout",
     "output_type": "stream",
     "text": [
      "[0, 4, 7, 10]\n"
     ]
    }
   ],
   "source": [
    "numeros = [7, 10, 4, 0]\n",
    "bubbleSort(numeros)"
   ]
  }
 ],
 "metadata": {
  "kernelspec": {
   "display_name": "Python 3 (ipykernel)",
   "language": "python",
   "name": "python3"
  },
  "language_info": {
   "codemirror_mode": {
    "name": "ipython",
    "version": 3
   },
   "file_extension": ".py",
   "mimetype": "text/x-python",
   "name": "python",
   "nbconvert_exporter": "python",
   "pygments_lexer": "ipython3",
   "version": "3.9.13"
  }
 },
 "nbformat": 4,
 "nbformat_minor": 5
}
