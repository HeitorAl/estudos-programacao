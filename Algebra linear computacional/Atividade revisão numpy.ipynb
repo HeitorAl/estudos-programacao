{
 "cells": [
  {
   "cell_type": "code",
   "execution_count": 1,
   "id": "8718c3f9",
   "metadata": {},
   "outputs": [],
   "source": [
    "import numpy as np"
   ]
  },
  {
   "cell_type": "code",
   "execution_count": 132,
   "id": "b7e7bf0c",
   "metadata": {},
   "outputs": [
    {
     "name": "stdout",
     "output_type": "stream",
     "text": [
      "14.5\n"
     ]
    }
   ],
   "source": [
    "def area(P):\n",
    "    area = 0\n",
    "    matriz = np.array(P)\n",
    "    matriz = np.concatenate((matriz, matriz[:1]), axis=0)\n",
    "    for i in range(matriz.shape[0] - 1):\n",
    "        mini_matriz = np.vstack((matriz[i], matriz[i+1]))\n",
    "        area += np.linalg.det(mini_matriz)\n",
    "    area = (np.abs(area)/2)\n",
    "    print('%.1f'% area)\n",
    "    \n",
    "area([[1,2],[3,4],[5,7],[2,10]])"
   ]
  },
  {
   "cell_type": "code",
   "execution_count": 129,
   "id": "1bd2923a",
   "metadata": {},
   "outputs": [
    {
     "name": "stdout",
     "output_type": "stream",
     "text": [
      "[[-18. -36. -54.]\n",
      " [ 36.  72. 108.]\n",
      " [ 18.  36.  54.]]\n"
     ]
    }
   ],
   "source": [
    "def mul(A,B):\n",
    "    matrizA, matrizB = np.matrix(A, dtype=float), np.matrix(B, dtype=float)\n",
    "    if matrizA.shape[1] != matrizB.shape[0]:\n",
    "        print(\"Não existe multiplicação entre essas matrizes\")\n",
    "    else:\n",
    "        print(np.dot(matrizA,matrizB))\n",
    "                \n",
    "\n",
    "mul([[1,-1,1],[-3,2,-1],[-2,1,0]],[[1,2,3],[20,40,60],[1,2,3]])"
   ]
  },
  {
   "cell_type": "code",
   "execution_count": 124,
   "id": "c91f33df",
   "metadata": {},
   "outputs": [
    {
     "name": "stdout",
     "output_type": "stream",
     "text": [
      "20\n"
     ]
    }
   ],
   "source": [
    "def interno(u, v):\n",
    "    vetor_u, vetor_v = np.array(u), np.array(v)\n",
    "    print(np.dot(vetor_u, vetor_v))\n",
    "    \n",
    "interno([1,2,3],[2,3,4])"
   ]
  },
  {
   "cell_type": "code",
   "execution_count": 45,
   "id": "e1159e79",
   "metadata": {},
   "outputs": [
    {
     "name": "stdout",
     "output_type": "stream",
     "text": [
      "3\n"
     ]
    }
   ],
   "source": [
    "def normainf(u):\n",
    "    vetor = np.array(u)\n",
    "    print(vetor.max())\n",
    "    \n",
    "normainf([1,2,3])"
   ]
  },
  {
   "cell_type": "code",
   "execution_count": 71,
   "id": "7c0fa435",
   "metadata": {},
   "outputs": [
    {
     "name": "stdout",
     "output_type": "stream",
     "text": [
      "6\n"
     ]
    }
   ],
   "source": [
    "def normau(u):\n",
    "    vetor = np.array(u)\n",
    "    print(np.sum(np.abs(vetor)))\n",
    "    \n",
    "normau([1,2,3])"
   ]
  },
  {
   "cell_type": "code",
   "execution_count": 74,
   "id": "00283f77",
   "metadata": {},
   "outputs": [
    {
     "name": "stdout",
     "output_type": "stream",
     "text": [
      "3\n"
     ]
    }
   ],
   "source": [
    "def tr(A):\n",
    "    matriz = np.matrix(A)\n",
    "    soma = 0\n",
    "    for i in range(len(matriz.shape)):\n",
    "        for j in range(len(matriz.shape)):\n",
    "            if i == j:\n",
    "                soma += matriz[i,j]\n",
    "    print(soma)\n",
    "    \n",
    "tr([[1,-1,1],[-3,2,-1],[-2,1,0]])"
   ]
  },
  {
   "cell_type": "code",
   "execution_count": 136,
   "id": "6fcb443a",
   "metadata": {},
   "outputs": [
    {
     "name": "stdout",
     "output_type": "stream",
     "text": [
      "21.693128562594516\n"
     ]
    }
   ],
   "source": [
    "def normap(u,p):\n",
    "    vetor = np.array(u)\n",
    "    vetor = np.power(np.abs(vetor), p)\n",
    "    soma = np.sum(vetor)\n",
    "    modulo = np.power(soma, (1/p))\n",
    "    print(modulo)\n",
    "    \n",
    "normap([1 , 0 , -5 , 1.7 , 21.6],3)"
   ]
  },
  {
   "cell_type": "code",
   "execution_count": null,
   "id": "ea4b8d1f",
   "metadata": {},
   "outputs": [],
   "source": []
  }
 ],
 "metadata": {
  "kernelspec": {
   "display_name": "Python 3 (ipykernel)",
   "language": "python",
   "name": "python3"
  },
  "language_info": {
   "codemirror_mode": {
    "name": "ipython",
    "version": 3
   },
   "file_extension": ".py",
   "mimetype": "text/x-python",
   "name": "python",
   "nbconvert_exporter": "python",
   "pygments_lexer": "ipython3",
   "version": "3.9.13"
  }
 },
 "nbformat": 4,
 "nbformat_minor": 5
}
