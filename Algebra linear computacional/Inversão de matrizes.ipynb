{
 "cells": [
  {
   "cell_type": "code",
   "execution_count": 2,
   "id": "b5f92b97",
   "metadata": {},
   "outputs": [],
   "source": [
    "import numpy as np"
   ]
  },
  {
   "cell_type": "code",
   "execution_count": 4,
   "id": "8808518b",
   "metadata": {},
   "outputs": [
    {
     "name": "stdout",
     "output_type": "stream",
     "text": [
      "P= [[0 0 0 1 0]\n",
      " [1 0 0 0 0]\n",
      " [0 0 1 0 0]\n",
      " [0 1 0 0 0]\n",
      " [0 0 0 0 1]]\n",
      "L= [[ 1.     0.     0.     0.     0.   ]\n",
      " [ 0.     1.     0.     0.     0.   ]\n",
      " [ 0.5    0.     1.     0.     0.   ]\n",
      " [ 0.     0.     2.4    1.     0.   ]\n",
      " [ 1.    -0.5    0.4   -0.875  1.   ]]\n",
      "U= [[  2.      2.     -1.     -2.      1.   ]\n",
      " [  0.      4.     -2.      3.     -3.   ]\n",
      " [  0.      0.      2.5     1.      5.5  ]\n",
      " [  0.      0.      0.     -2.4   -18.2  ]\n",
      " [  0.      0.      0.      0.    -15.625]]\n",
      "PLU= [[ 0.  0.  6.  0. -5.]\n",
      " [ 2.  2. -1. -2.  1.]\n",
      " [ 1.  1.  2.  0.  6.]\n",
      " [ 0.  4. -2.  3. -3.]\n",
      " [ 2.  0.  1. -1.  5.]]\n"
     ]
    }
   ],
   "source": [
    "# algoritmo de permutação de linhas\n",
    "def pij(A,i,j):\n",
    "    B=np.matrix(A[i])\n",
    "    A[i],A[j]=A[j],B\n",
    "\n",
    "def eija(A,i,j,a):\n",
    "    A[i]+=a*A[j]\n",
    "\n",
    "def eil(A,i,l):\n",
    "    A[i]*=l\n",
    "\n",
    "# executa o algoritmo lu, anotando a permutação das linhas na lista Q\n",
    "# executa o algoritmo lu, anotando a permutação das linas na lista Q\n",
    "def plu(M,Q,n):\n",
    "  for i in range(0,n):\n",
    "    # anotando e efetuando as permutações necessárias\n",
    "    if(M[i,i]==0):\n",
    "      for j in range(i+1,n):\n",
    "        if (M[j,i]!=0):\n",
    "          pij(M,j,i)\n",
    "          t=Q[i]\n",
    "          Q[i]=Q[j]\n",
    "          Q[j]=t\n",
    "          break\n",
    "    # executando o algoritmo LU\n",
    "    for j in range(i+1,n):\n",
    "      M[j,i] /= M[i,i]\n",
    "      for k in range(i+1,n):\n",
    "        M[j,k] -= M[j,i]*M[i,k]\n",
    "# fim do algoritmo plu\n",
    "\n",
    "def lu(M):\n",
    "  m,n=np.shape(M)\n",
    "  if(m!=n):\n",
    "    print('Erro! Matriz não é quadrada')\n",
    "    return\n",
    "  U=np.matrix(M)\n",
    "  Q=np.zeros(n,dtype=int)\n",
    "  for i in range(0,n):\n",
    "    Q[i]=i;\n",
    "  plu(U,Q,n)\n",
    "\n",
    "  # separando os fatores L e U\n",
    "  L=np.identity(n) \n",
    "  for i in range(1,n):\n",
    "    for j in range(0,i):\n",
    "      L[i,j]=U[i,j]\n",
    "      U[i,j]=0\n",
    "\n",
    "  # montando a matriz P a partir da lista Q\n",
    "  P=np.zeros(np.shape(M),dtype=int)\n",
    "  for i in range(0,n):\n",
    "    P[Q[i],i]=1\n",
    "\n",
    "  # retornando as matrizes obtidas\n",
    "  return P,L,U\n",
    "# finalizado\n",
    "\n",
    "# testando\n",
    "A=np.matrix([[0.,0.,6.,0.,-5.],\n",
    "             [2.,2.,-1.,-2.,1.],\n",
    "             [1.,1.,2.,0.,6.],\n",
    "             [0.,4.,-2.,3.,-3.],\n",
    "             [2.,0.,1.,-1.,5.]])\n",
    "P,L,U=lu(A)\n",
    "\n",
    "print('P=',P)\n",
    "print('L=',L)\n",
    "print('U=',U)\n",
    "print('PLU=',P@L@U)"
   ]
  },
  {
   "cell_type": "code",
   "execution_count": 44,
   "id": "c00075cf",
   "metadata": {},
   "outputs": [],
   "source": [
    "def inv(A):\n",
    "    m,n=np.shape(A)\n",
    "    P,L,U=lu(A)\n",
    "    identidade = np.identity(n)\n",
    "    inv_A = np.zeros((m,m))\n",
    "    I = P@identidade\n",
    "    for i in range(m):\n",
    "        y = np.linalg.solve(L,I[i])\n",
    "        x = np.linalg.solve(U,y)\n",
    "        inv_A[:, i] = x\n",
    "    \n",
    "    return inv_A"
   ]
  },
  {
   "cell_type": "code",
   "execution_count": 46,
   "id": "a01b233a",
   "metadata": {
    "scrolled": true
   },
   "outputs": [
    {
     "name": "stdout",
     "output_type": "stream",
     "text": [
      "[[ 0.084      -0.14266667 -0.57333333  0.21466667  0.92933333]\n",
      " [ 0.012       0.26533333  0.34666667  0.03066667 -0.43866667]\n",
      " [ 0.12       -0.01333333  0.13333333 -0.02666667 -0.05333333]\n",
      " [ 0.008      -0.37866667 -0.21333333  0.24266667  0.48533333]\n",
      " [-0.056      -0.016       0.16       -0.032      -0.064     ]]\n",
      "[[ 0.084      -0.14266667 -0.57333333  0.21466667  0.92933333]\n",
      " [ 0.012       0.26533333  0.34666667  0.03066667 -0.43866667]\n",
      " [ 0.12       -0.01333333  0.13333333 -0.02666667 -0.05333333]\n",
      " [ 0.008      -0.37866667 -0.21333333  0.24266667  0.48533333]\n",
      " [-0.056      -0.016       0.16       -0.032      -0.064     ]]\n"
     ]
    }
   ],
   "source": [
    "A=np.matrix([[0.,0.,6.,0.,-5.],\n",
    "             [2.,2.,-1.,-2.,1.],\n",
    "             [1.,1.,2.,0.,6.],\n",
    "             [0.,4.,-2.,3.,-3.],\n",
    "             [2.,0.,1.,-1.,5.]])\n",
    "print(inv(A))\n",
    "print(A.getI())"
   ]
  },
  {
   "cell_type": "code",
   "execution_count": null,
   "id": "ef2e7b8c",
   "metadata": {},
   "outputs": [],
   "source": []
  }
 ],
 "metadata": {
  "kernelspec": {
   "display_name": "Python 3 (ipykernel)",
   "language": "python",
   "name": "python3"
  },
  "language_info": {
   "codemirror_mode": {
    "name": "ipython",
    "version": 3
   },
   "file_extension": ".py",
   "mimetype": "text/x-python",
   "name": "python",
   "nbconvert_exporter": "python",
   "pygments_lexer": "ipython3",
   "version": "3.9.13"
  }
 },
 "nbformat": 4,
 "nbformat_minor": 5
}
